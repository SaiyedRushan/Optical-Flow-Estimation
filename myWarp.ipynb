{
 "cells": [
  {
   "cell_type": "code",
   "execution_count": 1,
   "id": "1b8db87a",
   "metadata": {},
   "outputs": [],
   "source": [
    "import os\n",
    "import cv2\n",
    "import numpy as np\n",
    "from scipy.interpolate import interp2d  #deprecated\n",
    "from scipy.interpolate import RectBivariateSpline"
   ]
  },
  {
   "cell_type": "code",
   "execution_count": 2,
   "id": "3bba022c",
   "metadata": {},
   "outputs": [],
   "source": [
    "# Set the path to the folder containing the image sequence\n",
    "folder_path = \"./Hotel Sequence/\"\n",
    "\n",
    "# Get a list of all image files in the folder\n",
    "image_files = [os.path.join(folder_path, f) for f in os.listdir(folder_path) if f.endswith(\".png\")]\n",
    "image_files = sorted(image_files, key=lambda item: (int(item.split(\"seq\")[1].split('.')[0])))"
   ]
  },
  {
   "cell_type": "code",
   "execution_count": 3,
   "id": "50d515e7",
   "metadata": {},
   "outputs": [],
   "source": [
    "# Read the first image in the sequence\n",
    "prev_frame = cv2.imread(image_files[0])\n",
    "\n",
    "# Convert the image to grayscale\n",
    "prev_gray = cv2.cvtColor(prev_frame, cv2.COLOR_BGR2GRAY)\n",
    "\n",
    "# Detect keypoints in the first frame using the Harris Corner detector\n",
    "prev_pts = cv2.goodFeaturesToTrack(prev_gray, maxCorners=500, qualityLevel=0.01, minDistance=10)\n",
    "\n",
    "# Select 20 random keypoints in the first frame\n",
    "np.random.seed(0)\n",
    "random_pts = np.random.permutation(prev_pts)[:20]\n",
    "\n",
    "# Initialize an empty list to store the keypoints that move out of the frame\n",
    "out_of_frame_pts = []"
   ]
  },
  {
   "cell_type": "code",
   "execution_count": 4,
   "id": "68e7527e",
   "metadata": {},
   "outputs": [],
   "source": [
    "mask = np.zeros_like(prev_frame)\n",
    "# Loop through the remaining images in the sequence\n",
    "for i in range(1, len(image_files)):\n",
    "\n",
    "    # Read the current frame\n",
    "    frame = cv2.imread(image_files[i])\n",
    "\n",
    "    # Convert the current frame to grayscale\n",
    "    gray = cv2.cvtColor(frame, cv2.COLOR_BGR2GRAY)\n",
    "\n",
    "    # Compute the optical flow for each keypoint\n",
    "    p1, st, err = cv2.calcOpticalFlowPyrLK(prev_gray, gray, prev_pts, None, winSize=(16, 16), maxLevel=2)\n",
    "\n",
    "    # Select only the keypoints that were successfully tracked\n",
    "    good_new = p1[st==1]\n",
    "    good_old = prev_pts[st==1]\n",
    "\n",
    "    # Initialize a mask to overlay the 2D path of the keypoints\n",
    "#     mask = np.zeros_like(frame)\n",
    "\n",
    "    # Loop through each tracked keypoint\n",
    "    for i, (new, old) in enumerate(zip(good_new, good_old)):\n",
    "        old = old.astype(int)\n",
    "        new = new.astype(int)\n",
    "        \n",
    "        # Compute the displacement vector\n",
    "        u, v = new.ravel() - old.ravel()\n",
    "\n",
    "        # Check if the predicted location is out of the frame or near the image borders\n",
    "        if new[0] < 0 or new[0] >= frame.shape[1] or new[1] < 0 or new[1] >= frame.shape[0] or new[0] < 15 or new[0] >= frame.shape[1] - 15 or new[1] < 15 or new[1] >= frame.shape[0] - 15:\n",
    "            # If the keypoint is out of the frame, add it to the list of out-of-frame keypoints\n",
    "            out_of_frame_pts.append(old)\n",
    "            # Skip to the next keypoint\n",
    "            continue\n",
    "\n",
    "        # Create a window around the keypoint in the previous frame\n",
    "        x, y = old.ravel().astype(int)\n",
    "        window = prev_gray[y-8:y+8, x-8:x+8]\n",
    "\n",
    "        # Compute the interpolated position of the keypoint in the current frame\n",
    "        f = RectBivariateSpline(np.arange(x-8, x+8), np.arange(y-8, y+8), window)\n",
    "        new_int = np.array([new[0], new[1]]).reshape(1, 2)\n",
    "    \n",
    "        out = f(new_int[:, 0], new_int[:, 1])\n",
    "        if len(out) == 2:\n",
    "            u_int, v_int = out\n",
    "        else:\n",
    "            u_int = v_int = 0\n",
    "\n",
    "        # Convert the displacement vector to integer values\n",
    "        u_int, v_int = int(round(u_int)), int(round(v_int))\n",
    "                \n",
    "        # Draw a line segment connecting the previous and current keypoint locations\n",
    "        mask = cv2.line(mask, tuple(old.ravel()), tuple(new.ravel()), (0, 255, 0), 2)\n",
    "\n",
    "        # Draw a circle around the current keypoint location\n",
    "        frame = cv2.circle(frame, tuple(new.ravel()), 5, (0, 0, 255), -1)\n",
    "\n",
    "    # Overlay the mask on the current frame\n",
    "    img = cv2.add(frame, mask)\n",
    "    # Display the image with keypoints and paths\n",
    "    cv2.imshow(\"Frame\", img)\n",
    "    cv2.waitKey(2)\n",
    "    \n",
    "    # Update the previous frame and keypoints\n",
    "    prev_gray = gray.copy()\n",
    "    prev_pts = good_new.reshape(-1, 1, 2)\n",
    "    \n",
    "#     # create a seperate image of the first frame\n",
    "#     out_of_frame_img = cv2.imread(image_files[0])\n",
    "    \n",
    "#     for pt in out_of_frame_pts:\n",
    "#         # Draw a circle around the initial keypoint location\n",
    "#         out_of_frame_img = cv2.circle(out_of_frame_img, tuple(pt.ravel()), 5, (0, 0, 255), -1)\n",
    "#         cv2.imshow(\"Out of Frame\", out_of_frame_img)\n",
    "#         cv2.waitKey(1)\n",
    "        \n",
    "cv2.destroyAllWindows()"
   ]
  },
  {
   "cell_type": "markdown",
   "id": "5a95ff5c",
   "metadata": {},
   "source": [
    "## IMP: The last few lines have been commented to better visualise the klt, uncomment to see the out of frame pts with respect to first image"
   ]
  },
  {
   "cell_type": "markdown",
   "id": "66dcc6fd",
   "metadata": {},
   "source": [
    "## IMP: RERUN ALL THE CELLS AFTER YOU'VE RAN IT ONCE"
   ]
  }
 ],
 "metadata": {
  "kernelspec": {
   "display_name": "Python 3 (ipykernel)",
   "language": "python",
   "name": "python3"
  },
  "language_info": {
   "codemirror_mode": {
    "name": "ipython",
    "version": 3
   },
   "file_extension": ".py",
   "mimetype": "text/x-python",
   "name": "python",
   "nbconvert_exporter": "python",
   "pygments_lexer": "ipython3",
   "version": "3.8.16"
  }
 },
 "nbformat": 4,
 "nbformat_minor": 5
}
